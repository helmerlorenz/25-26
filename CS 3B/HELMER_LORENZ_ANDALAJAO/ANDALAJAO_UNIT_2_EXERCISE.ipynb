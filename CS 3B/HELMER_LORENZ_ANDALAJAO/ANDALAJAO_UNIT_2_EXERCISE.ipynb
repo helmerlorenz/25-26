{
  "nbformat": 4,
  "nbformat_minor": 0,
  "metadata": {
    "colab": {
      "provenance": []
    },
    "kernelspec": {
      "name": "python3",
      "display_name": "Python 3"
    },
    "language_info": {
      "name": "python"
    }
  },
  "cells": [
    {
      "cell_type": "code",
      "execution_count": 1,
      "metadata": {
        "id": "g8fhL3VgRDXo"
      },
      "outputs": [],
      "source": [
        "import numpy as np"
      ]
    },
    {
      "cell_type": "code",
      "source": [
        "def setup_layer(inputs, weights, bias):\n",
        "    return np.array(inputs), np.array(weights), np.array(bias)"
      ],
      "metadata": {
        "id": "pO-bIrTbRIDd"
      },
      "execution_count": 2,
      "outputs": []
    },
    {
      "cell_type": "code",
      "source": [
        "def weighted_sum(inputs, weights, bias):\n",
        "    return np.dot(inputs, weights) + bias"
      ],
      "metadata": {
        "id": "GVsoIoCsRJtu"
      },
      "execution_count": 3,
      "outputs": []
    },
    {
      "cell_type": "code",
      "source": [
        "def relu(x):\n",
        "    return np.maximum(0, x)\n",
        "\n",
        "def sigmoid(x):\n",
        "    return 1 / (1 + np.exp(-x))\n",
        "\n",
        "def softmax(x):\n",
        "    exp_x = np.exp(x - np.max(x))  # stability fix\n",
        "    return exp_x / np.sum(exp_x)"
      ],
      "metadata": {
        "id": "LIP-RuSuRMHI"
      },
      "execution_count": 4,
      "outputs": []
    },
    {
      "cell_type": "code",
      "source": [
        "def cross_entropy_loss(y_true, y_pred):\n",
        "    y_true = np.array(y_true)\n",
        "    y_pred = np.clip(y_pred, 1e-15, 1 - 1e-15)\n",
        "    return -np.sum(y_true * np.log(y_pred))\n",
        "\n",
        "def binary_cross_entropy(y_true, y_pred):\n",
        "    y_true = np.array(y_true)\n",
        "    y_pred = np.clip(y_pred, 1e-15, 1 - 1e-15)\n",
        "    return -(y_true * np.log(y_pred) + (1 - y_true) * np.log(1 - y_pred))"
      ],
      "metadata": {
        "id": "MrxFs1YmROHy"
      },
      "execution_count": 6,
      "outputs": []
    },
    {
      "cell_type": "code",
      "source": [
        "import numpy as np\n",
        "\n",
        "# Example inputs (dummy values for illustration)\n",
        "X = [5.1, 3.5, 1.4, 0.2]     # sepal length, sepal width, petal length, petal width\n",
        "target_output = [1, 0, 0]    # one-hot for Iris-setosa\n",
        "\n",
        "# First hidden layer\n",
        "W1 = np.random.randn(4, 5)   # 4 inputs → 5 neurons\n",
        "B1 = np.random.randn(5)\n",
        "\n",
        "z1 = weighted_sum(X, W1, B1)\n",
        "a1 = relu(z1)\n",
        "\n",
        "# Second hidden layer\n",
        "W2 = np.random.randn(5, 3)   # 5 neurons → 3 neurons\n",
        "B2 = np.random.randn(3)\n",
        "\n",
        "z2 = weighted_sum(a1, W2, B2)\n",
        "a2 = sigmoid(z2)\n",
        "\n",
        "# Output layer\n",
        "W3 = np.random.randn(3, 3)   # 3 neurons → 3 outputs (Setosa, Versicolor, Virginica)\n",
        "B3 = np.random.randn(3)\n",
        "\n",
        "z3 = weighted_sum(a2, W3, B3)\n",
        "final_output = softmax(z3)\n",
        "\n",
        "# Loss\n",
        "loss = cross_entropy_loss(target_output, final_output)\n",
        "\n",
        "print(\"Hidden Layer 1 Output:\", a1)\n",
        "print(\"Hidden Layer 2 Output:\", a2)\n",
        "print(\"Final Prediction (Softmax):\", final_output)\n",
        "print(\"Loss:\", loss)\n"
      ],
      "metadata": {
        "colab": {
          "base_uri": "https://localhost:8080/"
        },
        "id": "R1OaWsN2U0Nv",
        "outputId": "6bf62547-b4d1-4b0c-f307-29e7c73ab83c"
      },
      "execution_count": 7,
      "outputs": [
        {
          "output_type": "stream",
          "name": "stdout",
          "text": [
            "Hidden Layer 1 Output: [7.14788459 0.         4.62891521 0.         0.        ]\n",
            "Hidden Layer 2 Output: [4.68908302e-05 9.99710999e-01 9.99953939e-01]\n",
            "Final Prediction (Softmax): [0.4954023  0.13472832 0.36986938]\n",
            "Loss: 0.7023851268614895\n"
          ]
        }
      ]
    },
    {
      "cell_type": "code",
      "source": [
        "X = [14.5, 20.2, 0.102]   # mean radius, mean texture, mean smoothness\n",
        "target_output = [1]       # malignant\n",
        "\n",
        "# Hidden layer 1\n",
        "W1 = np.random.randn(3, 4)\n",
        "B1 = np.random.randn(4)\n",
        "\n",
        "z1 = weighted_sum(X, W1, B1)\n",
        "a1 = relu(z1)\n",
        "\n",
        "# Hidden layer 2\n",
        "W2 = np.random.randn(4, 2)\n",
        "B2 = np.random.randn(2)\n",
        "\n",
        "z2 = weighted_sum(a1, W2, B2)\n",
        "a2 = sigmoid(z2)\n",
        "\n",
        "# Output layer\n",
        "W3 = np.random.randn(2, 1)\n",
        "B3 = np.random.randn(1)\n",
        "\n",
        "z3 = weighted_sum(a2, W3, B3)\n",
        "final_output = sigmoid(z3)\n",
        "\n",
        "# Loss\n",
        "loss = binary_cross_entropy(target_output, final_output)\n",
        "\n",
        "print(\"Hidden Layer 1 Output:\", a1)\n",
        "print(\"Hidden Layer 2 Output:\", a2)\n",
        "print(\"Final Prediction (Sigmoid):\", final_output)\n",
        "print(\"Loss:\", loss)\n"
      ],
      "metadata": {
        "colab": {
          "base_uri": "https://localhost:8080/"
        },
        "id": "uJ4yAAh6U6lr",
        "outputId": "39e7e1f8-877d-4e3d-d790-606e08eb4222"
      },
      "execution_count": 9,
      "outputs": [
        {
          "output_type": "stream",
          "name": "stdout",
          "text": [
            "Hidden Layer 1 Output: [20.16980905 30.7764599  23.85279278 18.92737559]\n",
            "Hidden Layer 2 Output: [1.         0.98784575]\n",
            "Final Prediction (Sigmoid): [0.82194125]\n",
            "Loss: [0.19608636]\n"
          ]
        }
      ]
    }
  ]
}